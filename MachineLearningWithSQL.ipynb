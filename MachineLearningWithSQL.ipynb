{
 "cells": [
  {
   "cell_type": "markdown",
   "metadata": {},
   "source": [
    "# Machine Learning with SQL | Iris dataset\n",
    "\n",
    "- This notebook teaches you how to train a machine learning model in database\n",
    "- Oracle Cloud database is used here\n",
    "- It supports machine learning functionality\n",
    "- There's no need to create a database on your own\n",
    "    - Just follow instructions below to configure the connection"
   ]
  },
  {
   "cell_type": "code",
   "execution_count": 63,
   "metadata": {},
   "outputs": [
    {
     "name": "stdout",
     "output_type": "stream",
     "text": [
      "cx_Oracle: 8.0.1\n",
      "Pandas: 1.0.5\n"
     ]
    }
   ],
   "source": [
    "print(f'cx_Oracle: {cx_Oracle.__version__}')\n",
    "print(f'Pandas: {pd.__version__}')"
   ]
  },
  {
   "cell_type": "markdown",
   "metadata": {},
   "source": [
    "<br><br>\n",
    "\n",
    "## Wallet configuration\n",
    "- Oracle Cloud Wallet has been provided for you in the `/wallet` folder\n",
    "- You'll have to configure the `wallet/sqlnet.ora` file\n",
    "    - Change `?/network/wallet` to absolute path of your wallet\n",
    "    \n",
    "Here's how:"
   ]
  },
  {
   "cell_type": "code",
   "execution_count": 1,
   "metadata": {},
   "outputs": [],
   "source": [
    "import os"
   ]
  },
  {
   "cell_type": "markdown",
   "metadata": {},
   "source": [
    "- This is absolute path to the wallet (on my machine):"
   ]
  },
  {
   "cell_type": "code",
   "execution_count": 10,
   "metadata": {},
   "outputs": [
    {
     "data": {
      "text/plain": [
       "'/Users/dradecic/Library/Mobile Documents/com~apple~CloudDocs/Firma/OReilly/Notebook/wallet'"
      ]
     },
     "execution_count": 10,
     "metadata": {},
     "output_type": "execute_result"
    }
   ],
   "source": [
    "os.path.abspath('wallet/')"
   ]
  },
  {
   "cell_type": "markdown",
   "metadata": {},
   "source": [
    "- The `sqlnet.ora` file looks like this:"
   ]
  },
  {
   "cell_type": "code",
   "execution_count": 5,
   "metadata": {},
   "outputs": [
    {
     "name": "stdout",
     "output_type": "stream",
     "text": [
      "WALLET_LOCATION = (SOURCE = (METHOD = file) (METHOD_DATA = (DIRECTORY=\"?/network/admin\")))\n",
      "SSL_SERVER_DN_MATCH=yes"
     ]
    }
   ],
   "source": [
    "!cat wallet/sqlnet.ora"
   ]
  },
  {
   "cell_type": "markdown",
   "metadata": {},
   "source": [
    "- Change *?/network/admin* with the result of `os.path.abspath('wallet/')`\n",
    "\n",
    "**After replacing:**"
   ]
  },
  {
   "cell_type": "code",
   "execution_count": 11,
   "metadata": {},
   "outputs": [
    {
     "name": "stdout",
     "output_type": "stream",
     "text": [
      "WALLET_LOCATION = (SOURCE = (METHOD = file) (METHOD_DATA = (DIRECTORY=\"/Users/dradecic/Library/Mobile Documents/com~apple~CloudDocs/Firma/OReilly/Notebook/wallet\")))\n",
      "SSL_SERVER_DN_MATCH=yes"
     ]
    }
   ],
   "source": [
    "!cat wallet/sqlnet.ora"
   ]
  },
  {
   "cell_type": "markdown",
   "metadata": {},
   "source": [
    "- Once the wallet is configured, you can establish the connection."
   ]
  },
  {
   "cell_type": "markdown",
   "metadata": {},
   "source": [
    "<br><br>\n",
    "\n",
    "## Establish a Database Connection"
   ]
  },
  {
   "cell_type": "markdown",
   "metadata": {},
   "source": [
    "- The `cx_Oracle` module is used to communicate with Oracle database\n",
    "- The credentials are provided for you in the code cell below:"
   ]
  },
  {
   "cell_type": "code",
   "execution_count": 13,
   "metadata": {},
   "outputs": [],
   "source": [
    "import cx_Oracle\n",
    "\n",
    "wallet_path = os.path.abspath('wallet/')\n",
    "username = 'ADMIN'\n",
    "password = '5r0HpCdHfor3z89uWlXGE3oKU1u92e'\n",
    "tns_name = 'db202012121152_low'\n",
    "\n",
    "os.environ['TNS_ADMIN'] = wallet_path\n",
    "conn = cx_Oracle.connect(username, password, tns_name, encoding='UTF-8', nencoding='UTF-8')"
   ]
  },
  {
   "cell_type": "markdown",
   "metadata": {},
   "source": [
    "- The connection is now established, and you can continue with table creation and data loading"
   ]
  },
  {
   "cell_type": "markdown",
   "metadata": {},
   "source": [
    "<br><br>\n",
    "\n",
    "## Create Table"
   ]
  },
  {
   "cell_type": "markdown",
   "metadata": {},
   "source": [
    "- You'll use `Pandas` throughout the notebook to work with data\n",
    "- The code cell below load in the Iris dataset to memory:"
   ]
  },
  {
   "cell_type": "code",
   "execution_count": 14,
   "metadata": {},
   "outputs": [
    {
     "data": {
      "text/html": [
       "<div>\n",
       "<style scoped>\n",
       "    .dataframe tbody tr th:only-of-type {\n",
       "        vertical-align: middle;\n",
       "    }\n",
       "\n",
       "    .dataframe tbody tr th {\n",
       "        vertical-align: top;\n",
       "    }\n",
       "\n",
       "    .dataframe thead th {\n",
       "        text-align: right;\n",
       "    }\n",
       "</style>\n",
       "<table border=\"1\" class=\"dataframe\">\n",
       "  <thead>\n",
       "    <tr style=\"text-align: right;\">\n",
       "      <th></th>\n",
       "      <th>sepal_length</th>\n",
       "      <th>sepal_width</th>\n",
       "      <th>petal_length</th>\n",
       "      <th>petal_width</th>\n",
       "      <th>species</th>\n",
       "    </tr>\n",
       "  </thead>\n",
       "  <tbody>\n",
       "    <tr>\n",
       "      <th>0</th>\n",
       "      <td>5.1</td>\n",
       "      <td>3.5</td>\n",
       "      <td>1.4</td>\n",
       "      <td>0.2</td>\n",
       "      <td>setosa</td>\n",
       "    </tr>\n",
       "    <tr>\n",
       "      <th>1</th>\n",
       "      <td>4.9</td>\n",
       "      <td>3.0</td>\n",
       "      <td>1.4</td>\n",
       "      <td>0.2</td>\n",
       "      <td>setosa</td>\n",
       "    </tr>\n",
       "    <tr>\n",
       "      <th>2</th>\n",
       "      <td>4.7</td>\n",
       "      <td>3.2</td>\n",
       "      <td>1.3</td>\n",
       "      <td>0.2</td>\n",
       "      <td>setosa</td>\n",
       "    </tr>\n",
       "    <tr>\n",
       "      <th>3</th>\n",
       "      <td>4.6</td>\n",
       "      <td>3.1</td>\n",
       "      <td>1.5</td>\n",
       "      <td>0.2</td>\n",
       "      <td>setosa</td>\n",
       "    </tr>\n",
       "    <tr>\n",
       "      <th>4</th>\n",
       "      <td>5.0</td>\n",
       "      <td>3.6</td>\n",
       "      <td>1.4</td>\n",
       "      <td>0.2</td>\n",
       "      <td>setosa</td>\n",
       "    </tr>\n",
       "  </tbody>\n",
       "</table>\n",
       "</div>"
      ],
      "text/plain": [
       "   sepal_length  sepal_width  petal_length  petal_width species\n",
       "0           5.1          3.5           1.4          0.2  setosa\n",
       "1           4.9          3.0           1.4          0.2  setosa\n",
       "2           4.7          3.2           1.3          0.2  setosa\n",
       "3           4.6          3.1           1.5          0.2  setosa\n",
       "4           5.0          3.6           1.4          0.2  setosa"
      ]
     },
     "execution_count": 14,
     "metadata": {},
     "output_type": "execute_result"
    }
   ],
   "source": [
    "import pandas as pd\n",
    "\n",
    "iris = pd.read_csv('https://gist.githubusercontent.com/curran/a08a1080b88344b0c8a7/raw/0e7a9b0a5d22642a06d3d5b9bcbad9890c8ee534/iris.csv')\n",
    "iris.head()"
   ]
  },
  {
   "cell_type": "markdown",
   "metadata": {},
   "source": [
    "- You need to create a table for holding the Iris dataset, and then we need to load data to it. \n",
    "- OML (Oracle Machine Learning) requires one column to be used as row ID (sequence)\n",
    "- The code cell below creates both sequence and the data, and outputs current contents of the `iris_data` table:"
   ]
  },
  {
   "cell_type": "code",
   "execution_count": 15,
   "metadata": {},
   "outputs": [],
   "source": [
    "create_sequence = '''CREATE SEQUENCE seq_iris'''\n",
    "create_table = '''\n",
    "    CREATE TABLE iris_data(\n",
    "        iris_id      NUMBER DEFAULT seq_iris.NEXTVAL,\n",
    "        sepal_length NUMBER,\n",
    "        sepal_width  NUMBER,\n",
    "        petal_length NUMBER,\n",
    "        petal_width  NUMBER,\n",
    "        species      VARCHAR2(16)\n",
    "    )\n",
    "'''\n",
    "\n",
    "cursor = conn.cursor()\n",
    "cursor.execute(create_sequence)\n",
    "cursor.execute(create_table)\n",
    "cursor.close()\n",
    "\n",
    "db_iris = pd.read_sql('''SELECT * FROM iris_data''', conn)"
   ]
  },
  {
   "cell_type": "code",
   "execution_count": 16,
   "metadata": {},
   "outputs": [
    {
     "data": {
      "text/html": [
       "<div>\n",
       "<style scoped>\n",
       "    .dataframe tbody tr th:only-of-type {\n",
       "        vertical-align: middle;\n",
       "    }\n",
       "\n",
       "    .dataframe tbody tr th {\n",
       "        vertical-align: top;\n",
       "    }\n",
       "\n",
       "    .dataframe thead th {\n",
       "        text-align: right;\n",
       "    }\n",
       "</style>\n",
       "<table border=\"1\" class=\"dataframe\">\n",
       "  <thead>\n",
       "    <tr style=\"text-align: right;\">\n",
       "      <th></th>\n",
       "      <th>IRIS_ID</th>\n",
       "      <th>SEPAL_LENGTH</th>\n",
       "      <th>SEPAL_WIDTH</th>\n",
       "      <th>PETAL_LENGTH</th>\n",
       "      <th>PETAL_WIDTH</th>\n",
       "      <th>SPECIES</th>\n",
       "    </tr>\n",
       "  </thead>\n",
       "  <tbody>\n",
       "  </tbody>\n",
       "</table>\n",
       "</div>"
      ],
      "text/plain": [
       "Empty DataFrame\n",
       "Columns: [IRIS_ID, SEPAL_LENGTH, SEPAL_WIDTH, PETAL_LENGTH, PETAL_WIDTH, SPECIES]\n",
       "Index: []"
      ]
     },
     "execution_count": 16,
     "metadata": {},
     "output_type": "execute_result"
    }
   ],
   "source": [
    "db_iris.head()"
   ]
  },
  {
   "cell_type": "markdown",
   "metadata": {},
   "source": [
    "- The table is created, but empty\n",
    "- You'll learn how to load in data next"
   ]
  },
  {
   "cell_type": "markdown",
   "metadata": {},
   "source": [
    "<br><br>\n",
    "\n",
    "## Load Data into Table\n",
    "\n",
    "- You can load in data into the table with a Python loop\n",
    "- The `itertuples()` function is used to itereate through the dataset rows\n",
    "- On each iteration, a single row is loaded\n",
    "- When all of the rows load, the transactions is commited:"
   ]
  },
  {
   "cell_type": "code",
   "execution_count": 17,
   "metadata": {},
   "outputs": [],
   "source": [
    "cursor = conn.cursor()\n",
    "\n",
    "for row in iris.itertuples(index=False):\n",
    "    stmt = f'''\n",
    "        INSERT INTO iris_data (\n",
    "            sepal_length, \n",
    "            sepal_width, \n",
    "            petal_length, \n",
    "            petal_width, \n",
    "            species\n",
    "        ) VALUES (\n",
    "            {row.sepal_length},\n",
    "            {row.sepal_width},\n",
    "            {row.petal_length},\n",
    "            {row.petal_width},\n",
    "            '{row.species}'\n",
    "        )\n",
    "    '''\n",
    "    cursor.execute(stmt)\n",
    "\n",
    "cursor.close()\n",
    "conn.commit()"
   ]
  },
  {
   "cell_type": "markdown",
   "metadata": {},
   "source": [
    "- Here's how the table looks like now:"
   ]
  },
  {
   "cell_type": "code",
   "execution_count": 18,
   "metadata": {},
   "outputs": [
    {
     "data": {
      "text/html": [
       "<div>\n",
       "<style scoped>\n",
       "    .dataframe tbody tr th:only-of-type {\n",
       "        vertical-align: middle;\n",
       "    }\n",
       "\n",
       "    .dataframe tbody tr th {\n",
       "        vertical-align: top;\n",
       "    }\n",
       "\n",
       "    .dataframe thead th {\n",
       "        text-align: right;\n",
       "    }\n",
       "</style>\n",
       "<table border=\"1\" class=\"dataframe\">\n",
       "  <thead>\n",
       "    <tr style=\"text-align: right;\">\n",
       "      <th></th>\n",
       "      <th>IRIS_ID</th>\n",
       "      <th>SEPAL_LENGTH</th>\n",
       "      <th>SEPAL_WIDTH</th>\n",
       "      <th>PETAL_LENGTH</th>\n",
       "      <th>PETAL_WIDTH</th>\n",
       "      <th>SPECIES</th>\n",
       "    </tr>\n",
       "  </thead>\n",
       "  <tbody>\n",
       "    <tr>\n",
       "      <th>0</th>\n",
       "      <td>1</td>\n",
       "      <td>5.1</td>\n",
       "      <td>3.5</td>\n",
       "      <td>1.4</td>\n",
       "      <td>0.2</td>\n",
       "      <td>setosa</td>\n",
       "    </tr>\n",
       "    <tr>\n",
       "      <th>1</th>\n",
       "      <td>2</td>\n",
       "      <td>4.9</td>\n",
       "      <td>3.0</td>\n",
       "      <td>1.4</td>\n",
       "      <td>0.2</td>\n",
       "      <td>setosa</td>\n",
       "    </tr>\n",
       "    <tr>\n",
       "      <th>2</th>\n",
       "      <td>3</td>\n",
       "      <td>4.7</td>\n",
       "      <td>3.2</td>\n",
       "      <td>1.3</td>\n",
       "      <td>0.2</td>\n",
       "      <td>setosa</td>\n",
       "    </tr>\n",
       "    <tr>\n",
       "      <th>3</th>\n",
       "      <td>4</td>\n",
       "      <td>4.6</td>\n",
       "      <td>3.1</td>\n",
       "      <td>1.5</td>\n",
       "      <td>0.2</td>\n",
       "      <td>setosa</td>\n",
       "    </tr>\n",
       "    <tr>\n",
       "      <th>4</th>\n",
       "      <td>5</td>\n",
       "      <td>5.0</td>\n",
       "      <td>3.6</td>\n",
       "      <td>1.4</td>\n",
       "      <td>0.2</td>\n",
       "      <td>setosa</td>\n",
       "    </tr>\n",
       "  </tbody>\n",
       "</table>\n",
       "</div>"
      ],
      "text/plain": [
       "   IRIS_ID  SEPAL_LENGTH  SEPAL_WIDTH  PETAL_LENGTH  PETAL_WIDTH SPECIES\n",
       "0        1           5.1          3.5           1.4          0.2  setosa\n",
       "1        2           4.9          3.0           1.4          0.2  setosa\n",
       "2        3           4.7          3.2           1.3          0.2  setosa\n",
       "3        4           4.6          3.1           1.5          0.2  setosa\n",
       "4        5           5.0          3.6           1.4          0.2  setosa"
      ]
     },
     "execution_count": 18,
     "metadata": {},
     "output_type": "execute_result"
    }
   ],
   "source": [
    "db_iris = pd.read_sql('''SELECT * FROM iris_data''', conn)\n",
    "db_iris.head()"
   ]
  },
  {
   "cell_type": "markdown",
   "metadata": {},
   "source": [
    "- Everything is ready for machine learning\n",
    "- The first step is the train/test split"
   ]
  },
  {
   "cell_type": "markdown",
   "metadata": {},
   "source": [
    "<br><br>\n",
    "\n",
    "## Train/Test Split"
   ]
  },
  {
   "cell_type": "markdown",
   "metadata": {},
   "source": [
    "- Oracle likes this step done with two views — one for training data and one for testing data\n",
    "- You can easily create these with a single PL/SQL block:"
   ]
  },
  {
   "cell_type": "code",
   "execution_count": 20,
   "metadata": {},
   "outputs": [],
   "source": [
    "stmt = '''\n",
    "    BEGIN\n",
    "        EXECUTE IMMEDIATE \n",
    "            'CREATE OR REPLACE VIEW \n",
    "            iris_train_data AS \n",
    "            SELECT * FROM iris_data \n",
    "            SAMPLE (75) SEED (42)';\n",
    "        EXECUTE IMMEDIATE \n",
    "            'CREATE OR REPLACE VIEW \n",
    "            iris_test_data AS \n",
    "            SELECT * FROM iris_data \n",
    "            MINUS \n",
    "            SELECT * FROM iris_train_data';\n",
    "    END;\n",
    "'''\n",
    "\n",
    "cursor = conn.cursor()\n",
    "cursor.execute(stmt)\n",
    "cursor.close()"
   ]
  },
  {
   "cell_type": "code",
   "execution_count": 26,
   "metadata": {},
   "outputs": [
    {
     "name": "stdout",
     "output_type": "stream",
     "text": [
      "#Rows in Train set: 119\n",
      "#Rows in Test set : 31\n"
     ]
    }
   ],
   "source": [
    "print(f\"#Rows in Train set: {pd.read_sql('''SELECT COUNT(*) FROM iris_train_data''', conn).values[0][0]}\")\n",
    "print(f\"#Rows in Test set : {pd.read_sql('''SELECT COUNT(*) FROM iris_test_data''', conn).values[0][0]}\")"
   ]
  },
  {
   "cell_type": "markdown",
   "metadata": {},
   "source": [
    "- A total of 150 rows, 119 in training set, and 31 in the test set\n",
    "- You can train the model next"
   ]
  },
  {
   "cell_type": "markdown",
   "metadata": {},
   "source": [
    "<br><br>\n",
    "\n",
    "## Model Training"
   ]
  },
  {
   "cell_type": "markdown",
   "metadata": {},
   "source": [
    "- The easiest method for model training is through `DBMS_DATA_MINING` package, with a single procedure execution, and without the need for creating additional settings tables\n",
    "- You'll use Decision tree algorithm for the job:"
   ]
  },
  {
   "cell_type": "code",
   "execution_count": 27,
   "metadata": {},
   "outputs": [],
   "source": [
    "training_stmt = '''\n",
    "    DECLARE \n",
    "        v_setlst DBMS_DATA_MINING.SETTING_LIST;\n",
    "    BEGIN\n",
    "        v_setlst('PREP_AUTO') := 'ON';\n",
    "        v_setlst('ALGO_NAME') := 'ALGO_DECISION_TREE';\n",
    "\n",
    "        DBMS_DATA_MINING.CREATE_MODEL2(\n",
    "            'iris_clf_model',\n",
    "            'CLASSIFICATION',\n",
    "            'SELECT * FROM iris_train_data',\n",
    "            v_setlst,\n",
    "            'iris_id',\n",
    "            'species'\n",
    "        );\n",
    "    END;\n",
    "'''\n",
    "\n",
    "cursor = conn.cursor()\n",
    "cursor.execute(training_stmt)\n",
    "cursor.close()"
   ]
  },
  {
   "cell_type": "markdown",
   "metadata": {},
   "source": [
    "- The `CREATE_MODEL2` procedure accepts a lot of parameters. Let’s explain the ones we entered:\n",
    "    - `iris_clf_model` — simply the name of your model. Can be anything\n",
    "    - `CLASSIFICATION` — type of machine learning task we’re doing. Must be uppercase for some reason\n",
    "    - `SELECT * FROM iris_train_data` — specifies where the training data is stored\n",
    "    - `v_setlst` — above declared settings list for our model\n",
    "    - `iris_id` — name of the sequence type column (each value is unique)\n",
    "    - `species` — name of the target variable (what we’re trying to predict)\n",
    "- Executing this block will take a second or two, but once done it’s ready for evaluation!\n",
    "\n",
    "- The model is now trained, so let's evaluate it next"
   ]
  },
  {
   "cell_type": "markdown",
   "metadata": {},
   "source": [
    "<br><br>\n",
    "\n",
    "## Model Evaluation"
   ]
  },
  {
   "cell_type": "markdown",
   "metadata": {},
   "source": [
    "- The following PL/SQL block applies the model to the test set:"
   ]
  },
  {
   "cell_type": "code",
   "execution_count": 28,
   "metadata": {},
   "outputs": [],
   "source": [
    "evaluate_stmt = '''\n",
    "    BEGIN\n",
    "        DBMS_DATA_MINING.APPLY(\n",
    "            'iris_clf_model', \n",
    "            'iris_test_data', \n",
    "            'iris_id', \n",
    "            'iris_apply_result'\n",
    "        );\n",
    "    END;\n",
    "'''\n",
    "\n",
    "cursor = conn.cursor()\n",
    "cursor.execute(evaluate_stmt)\n",
    "cursor.close()"
   ]
  },
  {
   "cell_type": "markdown",
   "metadata": {},
   "source": [
    "- Here are the prediction probabilities:"
   ]
  },
  {
   "cell_type": "code",
   "execution_count": 29,
   "metadata": {},
   "outputs": [
    {
     "data": {
      "text/html": [
       "<div>\n",
       "<style scoped>\n",
       "    .dataframe tbody tr th:only-of-type {\n",
       "        vertical-align: middle;\n",
       "    }\n",
       "\n",
       "    .dataframe tbody tr th {\n",
       "        vertical-align: top;\n",
       "    }\n",
       "\n",
       "    .dataframe thead th {\n",
       "        text-align: right;\n",
       "    }\n",
       "</style>\n",
       "<table border=\"1\" class=\"dataframe\">\n",
       "  <thead>\n",
       "    <tr style=\"text-align: right;\">\n",
       "      <th></th>\n",
       "      <th>IRIS_ID</th>\n",
       "      <th>PREDICTION</th>\n",
       "      <th>PROBABILITY</th>\n",
       "      <th>COST</th>\n",
       "    </tr>\n",
       "  </thead>\n",
       "  <tbody>\n",
       "    <tr>\n",
       "      <th>0</th>\n",
       "      <td>7</td>\n",
       "      <td>setosa</td>\n",
       "      <td>1.0</td>\n",
       "      <td>0.0</td>\n",
       "    </tr>\n",
       "    <tr>\n",
       "      <th>1</th>\n",
       "      <td>7</td>\n",
       "      <td>versicolor</td>\n",
       "      <td>0.0</td>\n",
       "      <td>1.0</td>\n",
       "    </tr>\n",
       "    <tr>\n",
       "      <th>2</th>\n",
       "      <td>7</td>\n",
       "      <td>virginica</td>\n",
       "      <td>0.0</td>\n",
       "      <td>1.0</td>\n",
       "    </tr>\n",
       "    <tr>\n",
       "      <th>3</th>\n",
       "      <td>10</td>\n",
       "      <td>setosa</td>\n",
       "      <td>1.0</td>\n",
       "      <td>0.0</td>\n",
       "    </tr>\n",
       "    <tr>\n",
       "      <th>4</th>\n",
       "      <td>10</td>\n",
       "      <td>versicolor</td>\n",
       "      <td>0.0</td>\n",
       "      <td>1.0</td>\n",
       "    </tr>\n",
       "    <tr>\n",
       "      <th>...</th>\n",
       "      <td>...</td>\n",
       "      <td>...</td>\n",
       "      <td>...</td>\n",
       "      <td>...</td>\n",
       "    </tr>\n",
       "    <tr>\n",
       "      <th>88</th>\n",
       "      <td>141</td>\n",
       "      <td>setosa</td>\n",
       "      <td>0.0</td>\n",
       "      <td>1.0</td>\n",
       "    </tr>\n",
       "    <tr>\n",
       "      <th>89</th>\n",
       "      <td>141</td>\n",
       "      <td>versicolor</td>\n",
       "      <td>0.0</td>\n",
       "      <td>1.0</td>\n",
       "    </tr>\n",
       "    <tr>\n",
       "      <th>90</th>\n",
       "      <td>145</td>\n",
       "      <td>virginica</td>\n",
       "      <td>1.0</td>\n",
       "      <td>0.0</td>\n",
       "    </tr>\n",
       "    <tr>\n",
       "      <th>91</th>\n",
       "      <td>145</td>\n",
       "      <td>setosa</td>\n",
       "      <td>0.0</td>\n",
       "      <td>1.0</td>\n",
       "    </tr>\n",
       "    <tr>\n",
       "      <th>92</th>\n",
       "      <td>145</td>\n",
       "      <td>versicolor</td>\n",
       "      <td>0.0</td>\n",
       "      <td>1.0</td>\n",
       "    </tr>\n",
       "  </tbody>\n",
       "</table>\n",
       "<p>93 rows × 4 columns</p>\n",
       "</div>"
      ],
      "text/plain": [
       "    IRIS_ID  PREDICTION  PROBABILITY  COST\n",
       "0         7      setosa          1.0   0.0\n",
       "1         7  versicolor          0.0   1.0\n",
       "2         7   virginica          0.0   1.0\n",
       "3        10      setosa          1.0   0.0\n",
       "4        10  versicolor          0.0   1.0\n",
       "..      ...         ...          ...   ...\n",
       "88      141      setosa          0.0   1.0\n",
       "89      141  versicolor          0.0   1.0\n",
       "90      145   virginica          1.0   0.0\n",
       "91      145      setosa          0.0   1.0\n",
       "92      145  versicolor          0.0   1.0\n",
       "\n",
       "[93 rows x 4 columns]"
      ]
     },
     "execution_count": 29,
     "metadata": {},
     "output_type": "execute_result"
    }
   ],
   "source": [
    "test_set_predictions = pd.read_sql('''SELECT * FROM iris_apply_result''', conn)\n",
    "test_set_predictions"
   ]
  },
  {
   "cell_type": "markdown",
   "metadata": {},
   "source": [
    "- You'll somehow need to keep only the classification where the prediction probability is the highest\n",
    "    - Notice there are three rows for a single instance (3 possible species)\n",
    "- The snippet below does it:"
   ]
  },
  {
   "cell_type": "code",
   "execution_count": 53,
   "metadata": {},
   "outputs": [],
   "source": [
    "preds = []\n",
    "for iris_id in test_set_predictions['IRIS_ID'].unique():\n",
    "    subset = test_set_predictions[test_set_predictions['IRIS_ID'] == iris_id].reset_index()\n",
    "    predicted = subset['PROBABILITY'].idxmax()\n",
    "    preds.append({\n",
    "        'IRIS_ID': iris_id,\n",
    "        'PREDICTION': subset.iloc[predicted]['PREDICTION']\n",
    "    })"
   ]
  },
  {
   "cell_type": "markdown",
   "metadata": {},
   "source": [
    "- Here are the predictions:"
   ]
  },
  {
   "cell_type": "code",
   "execution_count": 54,
   "metadata": {},
   "outputs": [
    {
     "data": {
      "text/plain": [
       "[{'IRIS_ID': 7, 'PREDICTION': 'setosa'},\n",
       " {'IRIS_ID': 10, 'PREDICTION': 'setosa'},\n",
       " {'IRIS_ID': 11, 'PREDICTION': 'setosa'},\n",
       " {'IRIS_ID': 13, 'PREDICTION': 'setosa'},\n",
       " {'IRIS_ID': 14, 'PREDICTION': 'setosa'},\n",
       " {'IRIS_ID': 17, 'PREDICTION': 'setosa'},\n",
       " {'IRIS_ID': 18, 'PREDICTION': 'setosa'},\n",
       " {'IRIS_ID': 19, 'PREDICTION': 'setosa'},\n",
       " {'IRIS_ID': 20, 'PREDICTION': 'setosa'},\n",
       " {'IRIS_ID': 36, 'PREDICTION': 'setosa'},\n",
       " {'IRIS_ID': 37, 'PREDICTION': 'setosa'},\n",
       " {'IRIS_ID': 53, 'PREDICTION': 'versicolor'},\n",
       " {'IRIS_ID': 61, 'PREDICTION': 'versicolor'},\n",
       " {'IRIS_ID': 62, 'PREDICTION': 'versicolor'},\n",
       " {'IRIS_ID': 67, 'PREDICTION': 'versicolor'},\n",
       " {'IRIS_ID': 71, 'PREDICTION': 'virginica'},\n",
       " {'IRIS_ID': 76, 'PREDICTION': 'versicolor'},\n",
       " {'IRIS_ID': 82, 'PREDICTION': 'versicolor'},\n",
       " {'IRIS_ID': 89, 'PREDICTION': 'versicolor'},\n",
       " {'IRIS_ID': 93, 'PREDICTION': 'versicolor'},\n",
       " {'IRIS_ID': 97, 'PREDICTION': 'versicolor'},\n",
       " {'IRIS_ID': 99, 'PREDICTION': 'versicolor'},\n",
       " {'IRIS_ID': 102, 'PREDICTION': 'virginica'},\n",
       " {'IRIS_ID': 125, 'PREDICTION': 'virginica'},\n",
       " {'IRIS_ID': 126, 'PREDICTION': 'virginica'},\n",
       " {'IRIS_ID': 132, 'PREDICTION': 'virginica'},\n",
       " {'IRIS_ID': 134, 'PREDICTION': 'versicolor'},\n",
       " {'IRIS_ID': 135, 'PREDICTION': 'versicolor'},\n",
       " {'IRIS_ID': 136, 'PREDICTION': 'virginica'},\n",
       " {'IRIS_ID': 141, 'PREDICTION': 'virginica'},\n",
       " {'IRIS_ID': 145, 'PREDICTION': 'virginica'}]"
      ]
     },
     "execution_count": 54,
     "metadata": {},
     "output_type": "execute_result"
    }
   ],
   "source": [
    "preds"
   ]
  },
  {
   "cell_type": "markdown",
   "metadata": {},
   "source": [
    "- To evauate model performance, you'll need access to the test set\n",
    "- Let's grab it:"
   ]
  },
  {
   "cell_type": "code",
   "execution_count": 55,
   "metadata": {},
   "outputs": [
    {
     "data": {
      "text/html": [
       "<div>\n",
       "<style scoped>\n",
       "    .dataframe tbody tr th:only-of-type {\n",
       "        vertical-align: middle;\n",
       "    }\n",
       "\n",
       "    .dataframe tbody tr th {\n",
       "        vertical-align: top;\n",
       "    }\n",
       "\n",
       "    .dataframe thead th {\n",
       "        text-align: right;\n",
       "    }\n",
       "</style>\n",
       "<table border=\"1\" class=\"dataframe\">\n",
       "  <thead>\n",
       "    <tr style=\"text-align: right;\">\n",
       "      <th></th>\n",
       "      <th>IRIS_ID</th>\n",
       "      <th>SEPAL_LENGTH</th>\n",
       "      <th>SEPAL_WIDTH</th>\n",
       "      <th>PETAL_LENGTH</th>\n",
       "      <th>PETAL_WIDTH</th>\n",
       "      <th>SPECIES</th>\n",
       "    </tr>\n",
       "  </thead>\n",
       "  <tbody>\n",
       "    <tr>\n",
       "      <th>0</th>\n",
       "      <td>93</td>\n",
       "      <td>5.8</td>\n",
       "      <td>2.6</td>\n",
       "      <td>4.0</td>\n",
       "      <td>1.2</td>\n",
       "      <td>versicolor</td>\n",
       "    </tr>\n",
       "    <tr>\n",
       "      <th>1</th>\n",
       "      <td>136</td>\n",
       "      <td>7.7</td>\n",
       "      <td>3.0</td>\n",
       "      <td>6.1</td>\n",
       "      <td>2.3</td>\n",
       "      <td>virginica</td>\n",
       "    </tr>\n",
       "    <tr>\n",
       "      <th>2</th>\n",
       "      <td>102</td>\n",
       "      <td>5.8</td>\n",
       "      <td>2.7</td>\n",
       "      <td>5.1</td>\n",
       "      <td>1.9</td>\n",
       "      <td>virginica</td>\n",
       "    </tr>\n",
       "    <tr>\n",
       "      <th>3</th>\n",
       "      <td>7</td>\n",
       "      <td>4.6</td>\n",
       "      <td>3.4</td>\n",
       "      <td>1.4</td>\n",
       "      <td>0.3</td>\n",
       "      <td>setosa</td>\n",
       "    </tr>\n",
       "    <tr>\n",
       "      <th>4</th>\n",
       "      <td>71</td>\n",
       "      <td>5.9</td>\n",
       "      <td>3.2</td>\n",
       "      <td>4.8</td>\n",
       "      <td>1.8</td>\n",
       "      <td>versicolor</td>\n",
       "    </tr>\n",
       "  </tbody>\n",
       "</table>\n",
       "</div>"
      ],
      "text/plain": [
       "   IRIS_ID  SEPAL_LENGTH  SEPAL_WIDTH  PETAL_LENGTH  PETAL_WIDTH     SPECIES\n",
       "0       93           5.8          2.6           4.0          1.2  versicolor\n",
       "1      136           7.7          3.0           6.1          2.3   virginica\n",
       "2      102           5.8          2.7           5.1          1.9   virginica\n",
       "3        7           4.6          3.4           1.4          0.3      setosa\n",
       "4       71           5.9          3.2           4.8          1.8  versicolor"
      ]
     },
     "execution_count": 55,
     "metadata": {},
     "output_type": "execute_result"
    }
   ],
   "source": [
    "test_set = pd.read_sql('''SELECT * FROM iris_test_data''', conn)\n",
    "test_set.head()"
   ]
  },
  {
   "cell_type": "markdown",
   "metadata": {},
   "source": [
    "- You'll join test set with predictions on the `IRIS_ID` column next:"
   ]
  },
  {
   "cell_type": "code",
   "execution_count": 58,
   "metadata": {},
   "outputs": [
    {
     "data": {
      "text/html": [
       "<div>\n",
       "<style scoped>\n",
       "    .dataframe tbody tr th:only-of-type {\n",
       "        vertical-align: middle;\n",
       "    }\n",
       "\n",
       "    .dataframe tbody tr th {\n",
       "        vertical-align: top;\n",
       "    }\n",
       "\n",
       "    .dataframe thead th {\n",
       "        text-align: right;\n",
       "    }\n",
       "</style>\n",
       "<table border=\"1\" class=\"dataframe\">\n",
       "  <thead>\n",
       "    <tr style=\"text-align: right;\">\n",
       "      <th></th>\n",
       "      <th>IRIS_ID</th>\n",
       "      <th>SPECIES</th>\n",
       "      <th>PREDICTION</th>\n",
       "    </tr>\n",
       "  </thead>\n",
       "  <tbody>\n",
       "    <tr>\n",
       "      <th>0</th>\n",
       "      <td>93</td>\n",
       "      <td>versicolor</td>\n",
       "      <td>versicolor</td>\n",
       "    </tr>\n",
       "    <tr>\n",
       "      <th>1</th>\n",
       "      <td>136</td>\n",
       "      <td>virginica</td>\n",
       "      <td>virginica</td>\n",
       "    </tr>\n",
       "    <tr>\n",
       "      <th>2</th>\n",
       "      <td>102</td>\n",
       "      <td>virginica</td>\n",
       "      <td>virginica</td>\n",
       "    </tr>\n",
       "    <tr>\n",
       "      <th>3</th>\n",
       "      <td>7</td>\n",
       "      <td>setosa</td>\n",
       "      <td>setosa</td>\n",
       "    </tr>\n",
       "    <tr>\n",
       "      <th>4</th>\n",
       "      <td>71</td>\n",
       "      <td>versicolor</td>\n",
       "      <td>virginica</td>\n",
       "    </tr>\n",
       "  </tbody>\n",
       "</table>\n",
       "</div>"
      ],
      "text/plain": [
       "   IRIS_ID     SPECIES  PREDICTION\n",
       "0       93  versicolor  versicolor\n",
       "1      136   virginica   virginica\n",
       "2      102   virginica   virginica\n",
       "3        7      setosa      setosa\n",
       "4       71  versicolor   virginica"
      ]
     },
     "execution_count": 58,
     "metadata": {},
     "output_type": "execute_result"
    }
   ],
   "source": [
    "preds_df = pd.DataFrame(preds)\n",
    "\n",
    "eval_df = pd.merge(\n",
    "    left=test_set[['IRIS_ID', 'SPECIES']],\n",
    "    left_on='IRIS_ID',\n",
    "    right=preds_df,\n",
    "    right_on='IRIS_ID'\n",
    ")\n",
    "eval_df.head()"
   ]
  },
  {
   "cell_type": "markdown",
   "metadata": {},
   "source": [
    "- From here, it's easy to calcualate if a prediction was correct:"
   ]
  },
  {
   "cell_type": "code",
   "execution_count": 60,
   "metadata": {},
   "outputs": [],
   "source": [
    "eval_df['CORRECT'] = [1 if species == prediction else 0 for species, prediction in zip(eval_df['SPECIES'], eval_df['PREDICTION'])]"
   ]
  },
  {
   "cell_type": "code",
   "execution_count": 61,
   "metadata": {},
   "outputs": [
    {
     "data": {
      "text/html": [
       "<div>\n",
       "<style scoped>\n",
       "    .dataframe tbody tr th:only-of-type {\n",
       "        vertical-align: middle;\n",
       "    }\n",
       "\n",
       "    .dataframe tbody tr th {\n",
       "        vertical-align: top;\n",
       "    }\n",
       "\n",
       "    .dataframe thead th {\n",
       "        text-align: right;\n",
       "    }\n",
       "</style>\n",
       "<table border=\"1\" class=\"dataframe\">\n",
       "  <thead>\n",
       "    <tr style=\"text-align: right;\">\n",
       "      <th></th>\n",
       "      <th>IRIS_ID</th>\n",
       "      <th>SPECIES</th>\n",
       "      <th>PREDICTION</th>\n",
       "      <th>CORRECT</th>\n",
       "    </tr>\n",
       "  </thead>\n",
       "  <tbody>\n",
       "    <tr>\n",
       "      <th>0</th>\n",
       "      <td>93</td>\n",
       "      <td>versicolor</td>\n",
       "      <td>versicolor</td>\n",
       "      <td>1</td>\n",
       "    </tr>\n",
       "    <tr>\n",
       "      <th>1</th>\n",
       "      <td>136</td>\n",
       "      <td>virginica</td>\n",
       "      <td>virginica</td>\n",
       "      <td>1</td>\n",
       "    </tr>\n",
       "    <tr>\n",
       "      <th>2</th>\n",
       "      <td>102</td>\n",
       "      <td>virginica</td>\n",
       "      <td>virginica</td>\n",
       "      <td>1</td>\n",
       "    </tr>\n",
       "    <tr>\n",
       "      <th>3</th>\n",
       "      <td>7</td>\n",
       "      <td>setosa</td>\n",
       "      <td>setosa</td>\n",
       "      <td>1</td>\n",
       "    </tr>\n",
       "    <tr>\n",
       "      <th>4</th>\n",
       "      <td>71</td>\n",
       "      <td>versicolor</td>\n",
       "      <td>virginica</td>\n",
       "      <td>0</td>\n",
       "    </tr>\n",
       "  </tbody>\n",
       "</table>\n",
       "</div>"
      ],
      "text/plain": [
       "   IRIS_ID     SPECIES  PREDICTION  CORRECT\n",
       "0       93  versicolor  versicolor        1\n",
       "1      136   virginica   virginica        1\n",
       "2      102   virginica   virginica        1\n",
       "3        7      setosa      setosa        1\n",
       "4       71  versicolor   virginica        0"
      ]
     },
     "execution_count": 61,
     "metadata": {},
     "output_type": "execute_result"
    }
   ],
   "source": [
    "eval_df.head()"
   ]
  },
  {
   "cell_type": "markdown",
   "metadata": {},
   "source": [
    "- And now to calcuate the accuracy, all you need is to divide the sum of correct predictions with the total dataset length:"
   ]
  },
  {
   "cell_type": "code",
   "execution_count": 62,
   "metadata": {},
   "outputs": [
    {
     "data": {
      "text/plain": [
       "0.9032258064516129"
      ]
     },
     "execution_count": 62,
     "metadata": {},
     "output_type": "execute_result"
    }
   ],
   "source": [
    "eval_df['CORRECT'].sum() / len(eval_df)"
   ]
  },
  {
   "cell_type": "markdown",
   "metadata": {},
   "source": [
    "- The decision tree model resulted in 90% accuracy."
   ]
  }
 ],
 "metadata": {
  "kernelspec": {
   "display_name": "Python 3",
   "language": "python",
   "name": "python3"
  },
  "language_info": {
   "codemirror_mode": {
    "name": "ipython",
    "version": 3
   },
   "file_extension": ".py",
   "mimetype": "text/x-python",
   "name": "python",
   "nbconvert_exporter": "python",
   "pygments_lexer": "ipython3",
   "version": "3.8.3"
  }
 },
 "nbformat": 4,
 "nbformat_minor": 4
}
